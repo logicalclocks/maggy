{
 "cells": [
  {
   "cell_type": "markdown",
   "id": "extended-macedonia",
   "metadata": {
    "pycharm": {
     "name": "#%% md\n"
    }
   },
   "source": [
    "Maggy enables you to train with Tensorflow distributed optimizers.\n",
    "Using Maggy, you have to make minimal changes in train your model in a distributed fashion."
   ]
  },
  {
   "cell_type": "markdown",
   "source": [
    "### 0. Spark Session\n",
    "\n",
    "Make sure you have a running Spark Session/Context available.\n",
    "\n",
    "On Hopsworks, just run your notebook to start the spark application.\n",
    "\n",
    "### 1. Model definition\n",
    "\n",
    "Let's define the model we want to train. The layers of the model have to be defined in the \\_\\_init__ function.\n",
    "\n",
    "Do not instantiate the class, otherwise you won't be able to use Maggy."
   ],
   "metadata": {
    "collapsed": false
   }
  },
  {
   "cell_type": "code",
   "execution_count": null,
   "outputs": [],
   "source": [
    "from tensorflow import keras \n",
    "from tensorflow.keras.layers import Dense\n",
    "from tensorflow.keras import Sequential\n",
    "from tensorflow.keras.optimizers import Adam\n",
    "\n",
    "# you can use keras.Sequential(), you just need to override it \n",
    "# on a custom class and define the layers in __init__()\n",
    "class NeuralNetwork(Sequential):\n",
    "    \n",
    "    def __init__(self):\n",
    "        super().__init__()\n",
    "        self.add(Dense(10,input_shape=(4,),activation='tanh'))\n",
    "        self.add(Dense(8,activation='tanh'))\n",
    "        self.add(Dense(6,activation='tanh'))\n",
    "        self.add(Dense(3,activation='softmax'))\n",
    "\n",
    "model = NeuralNetwork"
   ],
   "metadata": {
    "collapsed": false,
    "pycharm": {
     "name": "#%%\n"
    }
   }
  },
  {
   "cell_type": "markdown",
   "source": [
    "### 2. Dataset creation\n",
    "\n",
    "You can create the dataset here and pass it to the TfDistributedConfig, or creating it in the training function.\n",
    "\n",
    "You need to change the dataset path is correct."
   ],
   "metadata": {
    "collapsed": false
   }
  },
  {
   "cell_type": "code",
   "execution_count": 2,
   "id": "allied-operation",
   "metadata": {},
   "outputs": [
    {
     "name": "stdout",
     "output_type": "stream",
     "text": [
      "     sepal_length  sepal_width  petal_length  petal_width    variety\n",
      "0             5.1          3.5           1.4          0.2     Setosa\n",
      "1             4.9          3.0           1.4          0.2     Setosa\n",
      "2             4.7          3.2           1.3          0.2     Setosa\n",
      "3             4.6          3.1           1.5          0.2     Setosa\n",
      "4             5.0          3.6           1.4          0.2     Setosa\n",
      "..            ...          ...           ...          ...        ...\n",
      "145           6.7          3.0           5.2          2.3  Virginica\n",
      "146           6.3          2.5           5.0          1.9  Virginica\n",
      "147           6.5          3.0           5.2          2.0  Virginica\n",
      "148           6.2          3.4           5.4          2.3  Virginica\n",
      "149           5.9          3.0           5.1          1.8  Virginica\n",
      "\n",
      "[150 rows x 5 columns]"
     ]
    }
   ],
   "source": [
    "dataset_path = \"hdfs:///Projects/demo_ml_meb10000/TourData/iris/iris.csv\"\n",
    "\n",
    "import pandas as pd\n",
    "\n",
    "dataset = pd.read_csv(dataset_path)\n",
    "\n",
    "dataset"
   ]
  },
  {
   "cell_type": "code",
   "execution_count": 3,
   "id": "partial-retreat",
   "metadata": {},
   "outputs": [],
   "source": [
    "X = dataset.iloc[:,0:4].values\n",
    "y = dataset.iloc[:,4].values\n",
    "\n",
    "from sklearn.preprocessing import LabelEncoder\n",
    "\n",
    "encoder =  LabelEncoder()\n",
    "y1 = encoder.fit_transform(y)\n",
    "\n",
    "Y = pd.get_dummies(y1).values\n",
    "\n",
    "\n",
    "from sklearn.model_selection import train_test_split\n",
    "X_train, X_test, y_train, y_test = train_test_split(X,Y,test_size=0.2,random_state=0) "
   ]
  },
  {
   "cell_type": "markdown",
   "source": [
    "### 3. Defining the training function\n",
    "\n",
    "The programming model is that you wrap the code containing the model training inside a wrapper function. Inside that wrapper function provide all imports and parts that make up your experiment.\n",
    "\n",
    "The function should return the metric that you want to optimize for. This should coincide with the metric being reported in the Keras callback (see next point).\n",
    "You can return the metric list, in this case only the loss element will be printed."
   ],
   "metadata": {
    "collapsed": false
   }
  },
  {
   "cell_type": "code",
   "execution_count": null,
   "outputs": [],
   "source": [
    "def training_function(model, train_set, test_set):\n",
    "    model.build()\n",
    "    #fitting the model and predicting\n",
    "\n",
    "    model.compile(Adam(lr=0.04),'categorical_crossentropy',metrics=['accuracy'])\n",
    "\n",
    "    model.fit(train_set[0],train_set[1],epochs=20)\n",
    "\n",
    "    accuracy = model.evaluate(\n",
    "        x=test_set[0], y=test_set[1]\n",
    "        )\n",
    "\n",
    "    return accuracy"
   ],
   "metadata": {
    "collapsed": false,
    "pycharm": {
     "name": "#%%\n"
    }
   }
  },
  {
   "cell_type": "markdown",
   "source": [
    "### 4. Configuring the experiment\n",
    "\n",
    "In order to use maggy distributed training, we have to configure the training model, we can pass it to TfDistributedConfig.\n",
    "the model class has to be an implementation of __tf.keras.Model__.\n",
    "We can also define __train_set__, __test_set__ and eventually the __model_parameters__. __model_parameters__ is a dictionary\n",
    "containing the parameters to be used in the \\_\\_init__ function of your model."
   ],
   "metadata": {
    "collapsed": false
   }
  },
  {
   "cell_type": "code",
   "execution_count": 4,
   "id": "lovely-economics",
   "metadata": {},
   "outputs": [],
   "source": [
    "from maggy.experiment_config.tf_distributed import TfDistributedConfig\n",
    "\n",
    "config = TfDistributedConfig(name=\"tf_test\", module=model, train_set=(X_train, y_train), test_set=(X_test, y_test))\n",
    "\n",
    "\n"
   ]
  },
  {
   "cell_type": "markdown",
   "source": [
    "### 5. Run distributed training\n",
    "\n",
    "Finally, we are ready to launch the maggy experiment. You just need to pass 2 parameters: the training function and the configuration variable we defined in the previous steps."
   ],
   "metadata": {
    "collapsed": false
   }
  },
  {
   "cell_type": "code",
   "execution_count": 6,
   "id": "surface-conditioning",
   "metadata": {},
   "outputs": [
    {
     "data": {
      "application/vnd.jupyter.widget-view+json": {
       "model_id": "e6c5633dc2814649af2b61cdeed9eeba",
       "version_major": 2,
       "version_minor": 0
      },
      "text/plain": [
       "HBox(children=(FloatProgress(value=0.0, description='Maggy experiment', max=1.0, style=ProgressStyle(descripti…"
      ]
     },
     "metadata": {},
     "output_type": "display_data"
    },
    {
     "name": "stdout",
     "output_type": "stream",
     "text": [
      "1: All executors registered: True\n",
      "1: Epoch 1/20\n",
      "1: \n",
      "1: \n",
      "0: All executors registered: True\n",
      "0: Epoch 1/20\n",
      "0: \n",
      "0: \n",
      "1: Epoch 2/20\n",
      "1: Epoch 3/20\n",
      "1: Epoch 4/20\n",
      "1: Epoch 5/20\n",
      "1: Epoch 6/20\n",
      "0: Epoch 2/20\n",
      "0: Epoch 3/20\n",
      "0: Epoch 4/20\n",
      "0: Epoch 5/20\n",
      "0: Epoch 6/20\n",
      "0: Epoch 7/20\n",
      "0: Epoch 8/20\n",
      "0: Epoch 9/20\n",
      "0: Epoch 10/20\n",
      "0: Epoch 11/20\n",
      "0: Epoch 12/20\n",
      "0: Epoch 13/20\n",
      "0: Epoch 14/20\n",
      "0: Epoch 15/20\n",
      "0: Epoch 16/20\n",
      "0: Epoch 17/20\n",
      "0: Epoch 18/20\n",
      "0: Epoch 19/20\n",
      "0: Epoch 20/20\n",
      "1: Epoch 7/20\n",
      "1: Epoch 8/20\n",
      "1: Epoch 9/20\n",
      "1: Epoch 10/20\n",
      "1: Epoch 11/20\n",
      "1: Epoch 12/20\n",
      "1: Epoch 13/20\n",
      "1: Epoch 14/20\n",
      "1: Epoch 15/20\n",
      "1: Epoch 16/20\n",
      "1: Epoch 17/20\n",
      "1: Epoch 18/20\n",
      "1: Epoch 19/20\n",
      "1: Epoch 20/20\n",
      "1: \n",
      "1: \n",
      "You are running Maggy on Hopsworks.\n",
      "Final average test loss: 0.059\n",
      "Finished experiment. Total run time: 0 hours, 0 minutes, 31 seconds\n",
      "{'test result': 0.05948734097182751}\n"
     ]
    }
   ],
   "source": [
    "from maggy import experiment\n",
    "\n",
    "experiment.lagom(training_function, config)"
   ]
  }
 ],
 "metadata": {
  "kernelspec": {
   "display_name": "PySpark",
   "language": "python",
   "name": "pysparkkernel"
  },
  "language_info": {
   "codemirror_mode": {
    "name": "python",
    "version": 3
   },
   "mimetype": "text/x-python",
   "name": "pyspark",
   "pygments_lexer": "python3"
  }
 },
 "nbformat": 4,
 "nbformat_minor": 5
}
