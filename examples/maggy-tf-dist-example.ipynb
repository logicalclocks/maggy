{
 "cells": [
  {
   "cell_type": "markdown",
   "metadata": {
    "pycharm": {
     "name": "#%% md\n"
    }
   },
   "source": [
    "Maggy enables you to train with Tensorflow distributed optimizers.\n",
    "Using Maggy, you have to make minimal changes in train your model in a distributed fashion."
   ]
  },
  {
   "cell_type": "markdown",
   "metadata": {
    "pycharm": {
     "name": "#%% md\n"
    }
   },
   "source": [
    "### 0. Spark Session\n",
    "\n",
    "Make sure you have a running Spark Session/Context available.\n",
    "On Hopsworks, just run your notebook to start the spark application."
   ]
  },
  {
   "cell_type": "code",
   "execution_count": 1,
   "metadata": {
    "collapsed": false,
    "jupyter": {
     "outputs_hidden": false
    },
    "pycharm": {
     "name": "#%%\n"
    }
   },
   "outputs": [
    {
     "name": "stdout",
     "output_type": "stream",
     "text": [
      "Starting Spark application\n"
     ]
    },
    {
     "data": {
      "text/html": [
       "<table>\n",
       "<tr><th>ID</th><th>YARN Application ID</th><th>Kind</th><th>State</th><th>Spark UI</th><th>Driver log</th></tr><tr><td>55</td><td>application_1619177783210_0001</td><td>pyspark</td><td>idle</td><td><a target=\"_blank\" href=\"/hopsworks-api/yarnui/https://hopsworks0.logicalclocks.com:8089/proxy/application_1619177783210_0001/\">Link</a></td><td><a target=\"_blank\" href=\"/hopsworks-api/yarnui/https://hopsworks0.logicalclocks.com:8044/node/containerlogs/container_e17_1619177783210_0001_01_000001/demo_ml_meb10000__meb10000\">Link</a></td></tr></table>"
      ],
      "text/plain": [
       "<IPython.core.display.HTML object>"
      ]
     },
     "metadata": {},
     "output_type": "display_data"
    },
    {
     "name": "stdout",
     "output_type": "stream",
     "text": [
      "SparkSession available as 'spark'.\n"
     ]
    }
   ],
   "source": [
    "from maggy import experiment"
   ]
  },
  {
   "cell_type": "markdown",
   "metadata": {},
   "source": [
    "### 1. Model definition\n",
    "\n",
    "Let's define the model we want to train. The layers of the model have to be defined in the \\_\\_init__ function.\n",
    "\n",
    "Do not instantiate the class, otherwise you won't be able to use Maggy."
   ]
  },
  {
   "cell_type": "code",
   "execution_count": 2,
   "metadata": {},
   "outputs": [],
   "source": [
    "# Model definition.\n",
    "import tensorflow as tf\n",
    "from tensorflow import keras\n",
    "    \n",
    "class NeuralNetwork(tf.keras.Model):\n",
    "\n",
    "    def __init__(self, nlayers):\n",
    "        super().__init__()\n",
    "        self.conv1 = keras.layers.Conv2D(28, 2, activation='relu')\n",
    "        self.flatten = keras.layers.Flatten()\n",
    "        self.d1 = keras.layers.Dense(32, activation='relu')\n",
    "        self.d2 = keras.layers.Dense(10, activation='softmax')\n",
    "        \n",
    "    def call(self, x):\n",
    "        x = self.conv1(x)\n",
    "        x = self.flatten(x)\n",
    "        x = self.d1(x)\n",
    "        return self.d2(x)\n",
    "\n",
    "model = NeuralNetwork"
   ]
  },
  {
   "cell_type": "markdown",
   "metadata": {},
   "source": [
    "### 2. Dataset creation\n",
    "\n",
    "You can create the dataset here and pass it to the TfDistributedConfig, or creating it in the training function.\n",
    "\n",
    "In this example, we are downloading the dataset from tensorflow."
   ]
  },
  {
   "cell_type": "code",
   "execution_count": 3,
   "metadata": {},
   "outputs": [
    {
     "name": "stdout",
     "output_type": "stream",
     "text": [
      "Downloading data from https://storage.googleapis.com/tensorflow/tf-keras-datasets/mnist.npz\n",
      "11493376/11490434 [==============================] - 0s 0us/step"
     ]
    }
   ],
   "source": [
    "import numpy as np\n",
    "\n",
    "mnist = tf.keras.datasets.mnist\n",
    "\n",
    "(x_train, y_train),(x_test, y_test) = mnist.load_data()\n",
    "\n",
    "x_train, x_test = x_train / 255.0, x_test / 255.0\n",
    "x_train = np.reshape(x_train[:20000,:,:], (10000, 28, 28, 1))\n",
    "y_train = y_train[:10000]\n",
    "x_test = np.reshape(x_test[:500,:,:], (500, 28, 28, 1))\n",
    "y_test = y_test[:500]"
   ]
  },
  {
   "cell_type": "markdown",
   "metadata": {},
   "source": [
    "### 3. Defining the training function\n",
    "\n",
    "The programming model is that you wrap the code containing the model training inside a wrapper function. Inside that wrapper function provide all imports and parts that make up your experiment.\n",
    "\n",
    "The function should return the metric that you want to optimize for. This should coincide with the metric being reported in the Keras callback (see next point).\n",
    "You can return the metric list, in this case only the loss element will be printed."
   ]
  },
  {
   "cell_type": "code",
   "execution_count": 4,
   "metadata": {
    "pycharm": {
     "name": "#%%\n"
    }
   },
   "outputs": [],
   "source": [
    "def training_function(model, train_set, test_set, hparams):\n",
    "\n",
    "    from tensorflow import keras\n",
    "    \n",
    "    # Define training parameters\n",
    "    num_epochs = 10\n",
    "    batch_size = 256\n",
    "    learning_rate = 0.1\n",
    "\n",
    "    criterion = keras.losses.SparseCategoricalCrossentropy()\n",
    "    optimizer = keras.optimizers.SGD(learning_rate=learning_rate,momentum=0.9,decay=1e-5)\n",
    "    \n",
    "    model = model(nlayers = 2)\n",
    "    \n",
    "    model.compile(optimizer=optimizer, loss=criterion, metrics=[\"accuracy\"])\n",
    "    \n",
    "    model.fit(train_set,\n",
    "              batch_size=batch_size,\n",
    "              epochs=num_epochs,\n",
    "              )\n",
    "\n",
    "    print(\"Testing\")\n",
    "    \n",
    "    loss = model.evaluate(\n",
    "        test_set,\n",
    "        batch_size=32)\n",
    "    \n",
    "    return loss"
   ]
  },
  {
   "cell_type": "markdown",
   "metadata": {},
   "source": [
    "### 4. Configuring the experiment\n",
    "\n",
    "In order to use maggy distributed training, we have to configure the training model, we can pass it to TfDistributedConfig.\n",
    "the model class has to be an implementation of __tf.keras.Model__.\n",
    "We can also define __train_set__, __test_set__ and eventually the __model_parameters__. __model_parameters__ is a dictionary\n",
    "containing the parameters to be used in the \\_\\_init__ function of your model."
   ]
  },
  {
   "cell_type": "code",
   "execution_count": 5,
   "metadata": {},
   "outputs": [],
   "source": [
    "from maggy.experiment_config.tf_distributed import TfDistributedConfig\n",
    "\n",
    "#define the constructor parameters of your model\n",
    "model_parameters = {\n",
    "    'train_batch_size':\n",
    "    5000,\n",
    "    'test_batch_size': 250,\n",
    "    \n",
    "    'nlayers':2\n",
    "}\n",
    "\n",
    "#pass the model parameters in the last \n",
    "config = TfDistributedConfig(name=\"tf_test\", \n",
    "                             module=model, \n",
    "                             train_set=(x_train, y_train), \n",
    "                             test_set=(x_test, y_test),\n",
    "                             hparams=model_parameters\n",
    "                            )"
   ]
  },
  {
   "cell_type": "markdown",
   "metadata": {},
   "source": [
    "#### 5. Run distributed training\n",
    "\n",
    "Finally, we are ready to launch the maggy experiment. You just need to pass 2 parameters: the training function and the configuration variable we defined in the previous steps."
   ]
  },
  {
   "cell_type": "code",
   "execution_count": 6,
   "metadata": {
    "pycharm": {
     "name": "#%%\n"
    }
   },
   "outputs": [
    {
     "data": {
      "application/vnd.jupyter.widget-view+json": {
       "model_id": "a6f01ec899aa468ead70eabf1cb6ba8c",
       "version_major": 2,
       "version_minor": 0
      },
      "text/plain": [
       "HBox(children=(FloatProgress(value=0.0, description='Maggy experiment', max=1.0, style=ProgressStyle(descripti…"
      ]
     },
     "metadata": {},
     "output_type": "display_data"
    },
    {
     "name": "stdout",
     "output_type": "stream",
     "text": [
      "1: All executors registered: True\n",
      "1: Epoch 1/10\n",
      "1: \n",
      "1: \n",
      "0: All executors registered: True\n",
      "0: Epoch 1/10\n",
      "0: \n",
      "0: \n",
      "0: Epoch 2/10\n",
      "1: Epoch 2/10\n",
      "0: Epoch 3/10\n",
      "1: Epoch 3/10\n",
      "0: Epoch 4/10\n",
      "1: Epoch 4/10\n",
      "0: Epoch 5/10\n",
      "1: Epoch 5/10\n",
      "0: Epoch 6/10\n",
      "1: Epoch 6/10\n",
      "0: Epoch 7/10\n",
      "1: Epoch 7/10\n",
      "0: Epoch 8/10\n",
      "1: Epoch 8/10\n",
      "0: Epoch 9/10\n",
      "1: Epoch 9/10\n",
      "0: Epoch 10/10\n",
      "1: Epoch 10/10\n",
      "0: Testing\n",
      "0: \n",
      "0: \n",
      "1: Testing\n",
      "1: \n",
      "1: \n",
      "You are running Maggy on Hopsworks.\n",
      "Final average test loss: 0.672\n",
      "Finished experiment. Total run time: 0 hours, 0 minutes, 53 seconds\n",
      "{'test result': 0.6719840168952942}\n"
     ]
    }
   ],
   "source": [
    "experiment.lagom(training_function, config)"
   ]
  },
  {
   "cell_type": "code",
   "execution_count": null,
   "metadata": {},
   "outputs": [],
   "source": []
  }
 ],
 "metadata": {
  "kernelspec": {
   "display_name": "PySpark",
   "language": "python",
   "name": "pysparkkernel"
  },
  "language_info": {
   "codemirror_mode": {
    "name": "python",
    "version": 3
   },
   "mimetype": "text/x-python",
   "name": "pyspark",
   "pygments_lexer": "python3"
  }
 },
 "nbformat": 4,
 "nbformat_minor": 4
}
