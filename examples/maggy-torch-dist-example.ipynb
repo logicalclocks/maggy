{
 "cells": [
  {
   "cell_type": "code",
   "execution_count": null,
   "metadata": {},
   "outputs": [],
   "source": [
    "from maggy import experiment"
   ]
  },
  {
   "cell_type": "markdown",
   "metadata": {},
   "source": [
    "### 1. Model definition"
   ]
  },
  {
   "cell_type": "code",
   "execution_count": null,
   "metadata": {},
   "outputs": [],
   "source": [
    "# Model definition.\n",
    "import torch\n",
    "import torch.nn as nn\n",
    "\n",
    "class NeuralNetwork(nn.Module):\n",
    "\n",
    "    def __init__(self, l1_size, l2_size, l3_size):\n",
    "        super().__init__()\n",
    "        self.linear1 = nn.Linear(2,l1_size)\n",
    "        self.linear2 = nn.Linear(l1_size,l2_size)\n",
    "        self.linear3 = nn.Linear(l2_size,l3_size)\n",
    "        self.output = nn.Linear(l3_size, 1)\n",
    "\n",
    "    def forward(self, x):\n",
    "        x = torch.relu(self.linear1(x))\n",
    "        x = torch.relu(self.linear2(x))\n",
    "        x = torch.relu(self.linear3(x))\n",
    "        return self.output(x)\n",
    "\n",
    "model = NeuralNetwork(24,24,24)"
   ]
  },
  {
   "cell_type": "markdown",
   "metadata": {},
   "source": [
    "### 2. Dataset creation"
   ]
  },
  {
   "cell_type": "code",
   "execution_count": null,
   "metadata": {},
   "outputs": [],
   "source": [
    "# Dataset generator.\n",
    "x = torch.reshape(torch.rand(1000,2), (-1,2))\n",
    "y = torch.reshape(x[:,0] * torch.exp(x[:,0]**2 - x[:,1]**2), (-1,1))\n",
    "\n",
    "dataset = torch.utils.data.TensorDataset(x, y)\n",
    "\n",
    "train_set, test_set = torch.utils.data.random_split(dataset, [800,200])"
   ]
  },
  {
   "cell_type": "markdown",
   "metadata": {},
   "source": [
    "### 3. Defining the training function"
   ]
  },
  {
   "cell_type": "code",
   "execution_count": 1,
   "metadata": {},
   "outputs": [],
   "source": [
    "def training_function(model, train_set, test_set):\n",
    "    \n",
    "    from pathlib import Path\n",
    "    import os\n",
    "    import random\n",
    "    import numpy as np\n",
    "\n",
    "    import torch\n",
    "    import torch.nn as nn\n",
    "    import torch.optim as optim\n",
    "    from torch.utils.data import DataLoader    \n",
    "    \n",
    "    \n",
    "    def evaluate(model, test_loader):\n",
    "        model.eval()\n",
    "        with torch.no_grad():\n",
    "            for data in test_loader:\n",
    "                x, y = data[0], data[1]\n",
    "                outputs = model(x)\n",
    "                loss = criterion(outputs, y)\n",
    "        return loss\n",
    "\n",
    "    # Define training parameters\n",
    "    num_epochs = 20\n",
    "    batch_size = 256\n",
    "    learning_rate = 0.1\n",
    "\n",
    "    train_loader = DataLoader(dataset=train_set, batch_size=batch_size)\n",
    "    test_loader = DataLoader(dataset=test_set, batch_size=32, shuffle=False)\n",
    "\n",
    "    criterion = nn.MSELoss()\n",
    "    optimizer = optim.SGD(model.parameters(), lr=learning_rate, momentum=0.9, weight_decay=1e-5)\n",
    "\n",
    "    for epoch in range(num_epochs):\n",
    "        print(f\"Epoch: {epoch}, Training ... \\n\")\n",
    "        if epoch % 10 == 1:\n",
    "            loss = evaluate(model=model, test_loader=test_loader)\n",
    "            print(\"-\"*75)\n",
    "            print(f\"Epoch: {epoch}, Loss: {loss}\")\n",
    "            print(\"-\"*75)\n",
    "\n",
    "        model.train()\n",
    "        for data in train_loader:\n",
    "            inputs, y = data[0], data[1]\n",
    "            optimizer.zero_grad()\n",
    "            outputs = model(inputs)\n",
    "            loss = criterion(outputs, y)\n",
    "            loss.backward()\n",
    "            optimizer.step()\n",
    "\n",
    "    loss = evaluate(model=model, test_loader=test_loader)\n",
    "    print(\"-\"*75)\n",
    "    print(f\"Final test loss: {loss}\")\n",
    "    print(\"-\"*75)\n",
    "    loss = loss.item()\n",
    "\n",
    "    return loss"
   ]
  },
  {
   "cell_type": "markdown",
   "metadata": {},
   "source": [
    "### 4. Configuring the experiment "
   ]
  },
  {
   "cell_type": "code",
   "execution_count": null,
   "metadata": {},
   "outputs": [],
   "source": [
    "from maggy.experiment_config import DistributedConfig\n",
    "\n",
    "config = DistributedConfig(name=\"torch_test\", model=model, train_set=train_set, test_set=test_set)"
   ]
  },
  {
   "cell_type": "markdown",
   "metadata": {},
   "source": [
    "### 5. Run distributed training"
   ]
  },
  {
   "cell_type": "code",
   "execution_count": null,
   "metadata": {},
   "outputs": [],
   "source": [
    "experiment.lagom(training_function, config)"
   ]
  }
 ],
 "metadata": {
  "kernelspec": {
   "display_name": "Python 3",
   "language": "python",
   "name": "python3"
  },
  "language_info": {
   "codemirror_mode": {
    "name": "ipython",
    "version": 3
   },
   "file_extension": ".py",
   "mimetype": "text/x-python",
   "name": "python",
   "nbconvert_exporter": "python",
   "pygments_lexer": "ipython3",
   "version": "3.7.9"
  }
 },
 "nbformat": 4,
 "nbformat_minor": 2
}
